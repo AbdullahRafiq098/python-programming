{
 "cells": [
  {
   "cell_type": "code",
   "execution_count": null,
   "metadata": {},
   "outputs": [],
   "source": [
    "# Question 1:Define Object Oriented Programming Language?\n",
    "#     Answer\n",
    "# OOP is a programming language based on the concepts Objects.an object can store data to their respective class like his class \n",
    "# attribute, methods e.t.c"
   ]
  },
  {
   "cell_type": "code",
   "execution_count": null,
   "metadata": {},
   "outputs": [],
   "source": [
    "# Question 2:List down the Benefits of OOP?\n",
    "#     Answer\n",
    "# we can re use the code by inhertance\n",
    "# with the help of reuseability we cancomplete our software fast\n",
    "# it can make your data secure by defining the scope of classes or making abstract methods"
   ]
  },
  {
   "cell_type": "code",
   "execution_count": 5,
   "metadata": {},
   "outputs": [
    {
     "name": "stdout",
     "output_type": "stream",
     "text": [
      "5\n",
      "lights on !\n"
     ]
    },
    {
     "ename": "NameError",
     "evalue": "name 'lights_on' is not defined",
     "output_type": "error",
     "traceback": [
      "\u001b[1;31m---------------------------------------------------------------------------\u001b[0m",
      "\u001b[1;31mNameError\u001b[0m                                 Traceback (most recent call last)",
      "\u001b[1;32m<ipython-input-5-5d4ba2501e87>\u001b[0m in \u001b[0;36m<module>\u001b[1;34m\u001b[0m\n\u001b[0;32m     15\u001b[0m \u001b[1;31m# so if i only write \"lights_on()\" and call this function it throus an error becouse i am calling without any reference object\u001b[0m\u001b[1;33m\u001b[0m\u001b[1;33m\u001b[0m\u001b[1;33m\u001b[0m\u001b[0m\n\u001b[0;32m     16\u001b[0m \u001b[1;31m# in the line below i am calling it without any reference so it throuws an error\u001b[0m\u001b[1;33m\u001b[0m\u001b[1;33m\u001b[0m\u001b[1;33m\u001b[0m\u001b[0m\n\u001b[1;32m---> 17\u001b[1;33m \u001b[0mlights_on\u001b[0m\u001b[1;33m(\u001b[0m\u001b[1;33m)\u001b[0m\u001b[1;33m\u001b[0m\u001b[1;33m\u001b[0m\u001b[0m\n\u001b[0m",
      "\u001b[1;31mNameError\u001b[0m: name 'lights_on' is not defined"
     ]
    }
   ],
   "source": [
    "# Question 3:Differentiate between function and method?\n",
    "#     Answer\n",
    "# Function is defined out side of the class it can be a biltin or it can be define by us.\n",
    "def add(x,y):\n",
    "    return x+y\n",
    "print(add(2,3))\n",
    "# there are two function 1st is \"add(x,y)\" which is defined by me or USER_DEFINE while the second one is biultin which is print()\n",
    "# Method is define inside of the class and can call by creating the object of that perticular class which is the reference to that class\n",
    "class Car:\n",
    "    def lights_on(self):\n",
    "        print(\"lights on !\")\n",
    "\n",
    "Car1 = Car()\n",
    "Car1.lights_on()\n",
    "# so if i only write \"lights_on()\" and call this function it throus an error becouse i am calling without any reference object\n",
    "# in the line below i am calling it without any reference_object so it throuws an error\n",
    "lights_on()"
   ]
  },
  {
   "cell_type": "code",
   "execution_count": null,
   "metadata": {},
   "outputs": [],
   "source": [
    "# Question 4:\n",
    "# Define the following terms:\n",
    "# 1. Class\n",
    "# 2. Object\n",
    "# 3. Attribute\n",
    "# 4. Behavior\n",
    "#     Answer\n",
    "# 1.CLASS : is a blueprint or a structure like thing, on which you can put any shape but the shape should by of same class\n",
    "# 2.Object : are the instance or the member of that class like a car class have an object carola or can be a Audi\n",
    "# 3.Attribute : are the properties which the object has like a toyota_car has  a name, color,plat_number e.t.c\n",
    "# 4.Behavioue : is the action which the object can perform like car can break,consume_fuel,hit,break_automatically,self_driven"
   ]
  },
  {
   "cell_type": "code",
   "execution_count": 45,
   "metadata": {},
   "outputs": [
    {
     "name": "stdout",
     "output_type": "stream",
     "text": [
      "Your Corolla is switch ON Vroom Boommm \n",
      "Car name is Corolla \n",
      "        model = 2018\n",
      "        color = White\n",
      "        plate number = IU2010\n",
      "        emergency Break ability = True\n",
      "        traffic Sign Recongnition = False\n",
      "Your Corolla is switch OFF \n",
      "\n",
      "Your Mira is switch ON Vroom Boommm \n",
      "Car name is Mira \n",
      "        model = 2011\n",
      "        color = White\n",
      "        plate number = KHI-2020\n",
      "        emergency Break ability = False\n",
      "        traffic Sign Recongnition = False\n",
      "Your Mira is switch OFF \n",
      "\n",
      "Your Nissan Days is switch ON Vroom Boommm \n",
      "Golden\n",
      "Car name is Nissan Days \n",
      "        model = 2016\n",
      "        color = Red\n",
      "        plate number = IU2020\n",
      "        emergency Break ability = True\n",
      "        traffic Sign Recongnition = False\n",
      "Your Nissan Days is switch OFF \n",
      "\n",
      "Your Nissan Juke is switch ON Vroom Boommm \n",
      "Golden\n",
      "Car name is Nissan Juke \n",
      "        model = 2016\n",
      "        color = Red\n",
      "        plate number = IU2020\n",
      "        emergency Break ability = True\n",
      "        traffic Sign Recongnition = False\n",
      "Your Nissan Juke is switch OFF \n",
      "\n",
      "Your Br-v is switch ON Vroom Boommm \n",
      "Golden\n",
      "Car name is Br-v \n",
      "        model = 2016\n",
      "        color = Red\n",
      "        plate number = IU2000\n",
      "        emergency Break ability = True\n",
      "        traffic Sign Recongnition = False\n",
      "Your Nissan Days is switch OFF \n"
     ]
    }
   ],
   "source": [
    "# Question 5:Write a code in python in which create a class named it Car which have 5 attributes\n",
    "# such like (model, color and name etc.) and 3 methods. And create 5 object instance from that class.\n",
    "class Car:\n",
    "    def __init__(self, model, color, name, plate_number, emergency_brake, traffic_Sign_Recongnition):\n",
    "        self.model = model\n",
    "        self.color = color\n",
    "        self.name = name\n",
    "        self.plate_number = plate_number\n",
    "        self.emergency_brake = emergency_brake\n",
    "        self.traffic_Sign_Recongnition = traffic_Sign_Recongnition\n",
    "        \n",
    "    def Switched_on(self):\n",
    "        print(\"Your \"+self.name+\" is switch ON Vroom Boommm \")\n",
    "    def Switched_off(self):\n",
    "        print(\"Your \"+self.name+\" is switch OFF \")\n",
    "    def about_car(self):\n",
    "        print(f\"\"\"Car name is {self.name} \n",
    "        model = {self.model}\n",
    "        color = {self.color}\n",
    "        plate number = {self.plate_number}\n",
    "        emergency Break ability = {self.emergency_brake}\n",
    "        traffic Sign Recongnition = {self.traffic_Sign_Recongnition}\"\"\")\n",
    "\n",
    "        \n",
    "Car1 = Car(\"2018\", \"Blaclk\", \"Corolla\", \"IU2010\", True, False) \n",
    "Car1.Switched_on()\n",
    "Car1.color = 'White'\n",
    "Car1.about_car()\n",
    "Car1.Switched_off()\n",
    "print(\"\")\n",
    "\n",
    "Car2 = Car(\"2011\", \"pearl White\", \"Mira\", \"IU2020\", False, False) \n",
    "Car2.Switched_on()\n",
    "Car2.plate_number = \"KHI-2020\"\n",
    "Car2.color = 'White'\n",
    "Car2.about_car()\n",
    "Car2.Switched_off()\n",
    "print(\"\")\n",
    "\n",
    "Car3 = Car(\"2016\", \"Golden\", \"Nissan Days\", \"IU2020\", True, False) \n",
    "Car3.Switched_on()\n",
    "print(Car3.color)\n",
    "Car3.color = 'Red'\n",
    "Car3.about_car()\n",
    "Car3.Switched_off()\n",
    "print(\"\")\n",
    "\n",
    "Car4 = Car(\"2016\", \"Golden\", \"Nissan Juke\", \"IU2020\", True, False) \n",
    "Car4.Switched_on()\n",
    "print(Car4.color)\n",
    "Car4.color = 'Red'\n",
    "Car4.about_car()\n",
    "Car4.Switched_off()\n",
    "print(\"\")\n",
    "\n",
    "Car5 = Car(\"2016\", \"Golden\", \"Br-v\", \"IU2000\", True, False) \n",
    "Car5.Switched_on()\n",
    "print(Car5.color)\n",
    "Car5.color = 'Red'\n",
    "Car5.about_car()\n",
    "Car3.Switched_off()"
   ]
  },
  {
   "cell_type": "code",
   "execution_count": null,
   "metadata": {},
   "outputs": [],
   "source": []
  }
 ],
 "metadata": {
  "kernelspec": {
   "display_name": "Python 3",
   "language": "python",
   "name": "python3"
  },
  "language_info": {
   "codemirror_mode": {
    "name": "ipython",
    "version": 3
   },
   "file_extension": ".py",
   "mimetype": "text/x-python",
   "name": "python",
   "nbconvert_exporter": "python",
   "pygments_lexer": "ipython3",
   "version": "3.7.4"
  }
 },
 "nbformat": 4,
 "nbformat_minor": 2
}
