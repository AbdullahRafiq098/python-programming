{
 "cells": [
  {
   "cell_type": "code",
   "execution_count": 1,
   "metadata": {},
   "outputs": [
    {
     "name": "stdout",
     "output_type": "stream",
     "text": [
      "{'first name': 'UbaidUllah', 'last name': 'Rafiq', 'age': '18', 'city': 'karachi'}\n",
      "{'first name': 'UbaidUllah', 'last name': 'Rafiq', 'age': '18', 'city': 'karachi', 'qualification': 'Intermediate'}\n",
      "{'first name': 'UbaidUllah', 'last name': 'Rafiq', 'age': '18', 'city': 'karachi', 'qualification': 'BE'}\n",
      "{'first name': 'UbaidUllah', 'last name': 'Rafiq', 'age': '18', 'city': 'karachi'}\n"
     ]
    }
   ],
   "source": [
    "# Question1:\n",
    "# Use a dictionary to store information about a person you know. Store their first name,  , age, \n",
    "# and the city in which they live. You should have keys such as first_name, last_name, age, and city. Print\n",
    "# each piece of information stored in your dictionary. Add a new key value pair about qualification then update \n",
    "# the qualification value to high academic level then delete it.\n",
    "Brother={\n",
    "    \"first name\": \"UbaidUllah\",\n",
    "    \"last name\" : \"Rafiq\",\n",
    "    \"age\"       : \"18\",\n",
    "    \"city\"      : \"karachi\"\n",
    "    }\n",
    "print(Brother)\n",
    "Brother[\"qualification\"] = \"Intermediate\"\n",
    "print(Brother)\n",
    "Brother[\"qualification\"] = \"BE\"\n",
    "print(Brother)\n",
    "del Brother[\"qualification\"]\n",
    "print(Brother)"
   ]
  },
  {
   "cell_type": "code",
   "execution_count": 3,
   "metadata": {},
   "outputs": [
    {
     "name": "stdout",
     "output_type": "stream",
     "text": [
      "{'country': 'Pakistan', 'population': '200 M', 'fact': 'Kachra'}\n",
      "{'country': 'India', 'population': '150 M', 'fact': 'capital'}\n",
      "{'country': 'Bangladesh', 'population': '110 M', 'fact': 'capital'}\n"
     ]
    }
   ],
   "source": [
    "# Question2:\n",
    "# Make a dictionary called cities. Use the names of three cities as keys in your dictionary. \n",
    "# Create a dictionary of information about each city and include the country that the city is in, \n",
    "# its approximate population, and one fact about that city. The keys for each city’s dictionary should be something like country,\n",
    "# population, and fact. Print the name of each city and all of the information you have stored about it.\n",
    "\n",
    "cities = {\n",
    "    \"Karachi\": {\n",
    "    \"country\": 'Pakistan', \n",
    "    \"population\": '200 M',\n",
    "    \"fact\": 'Kachra'\n",
    "    },\n",
    "    \"Dehli\": {\n",
    "        \"country\": 'India', \n",
    "        \"population\": '150 M',\n",
    "        \"fact\": 'capital'\n",
    "    },\n",
    "    \"Dhaka\": {\n",
    "        \"country\": 'Bangladesh', \n",
    "        \"population\": '110 M',\n",
    "        \"fact\": 'capital'\n",
    "    }\n",
    "}\n",
    "print(cities[\"Karachi\"])\n",
    "print(cities[\"Dehli\"])\n",
    "print(cities[\"Dhaka\"])\n"
   ]
  },
  {
   "cell_type": "code",
   "execution_count": null,
   "metadata": {},
   "outputs": [
    {
     "name": "stdout",
     "output_type": "stream",
     "text": [
      "Please Enter Your Age = 89\n",
      "the ticket is of $15\n",
      "Please Enter Your Age = 22\n",
      "the ticket is of $15\n",
      "Please Enter Your Age = 0\n",
      "the ticket is free = \n",
      "Please Enter Your Age = 1\n",
      "the ticket is free = \n",
      "Please Enter Your Age = 2\n",
      "the ticket is free = \n",
      "Please Enter Your Age = 3\n",
      "the ticket is free = \n",
      "Please Enter Your Age = 4\n",
      "ticket is of $10\n"
     ]
    }
   ],
   "source": [
    "# Question3:\n",
    "# A movie theater charges different ticket prices depending on a person’s age. If a person is under the age of 3, \n",
    "# the ticket is free; if they are between 3 and 12, the ticket is $10; and if they are over age 12, the ticket is $15. \n",
    "# Write a loop in which you ask users their age, and then tell them the cost of their movie ticket.\n",
    "\n",
    "while(True):\n",
    "    Age = int(input(\"Please Enter Your Age = \"))\n",
    "    if Age <= 3:\n",
    "        print(\"the ticket is free = \")\n",
    "    elif   3 < Age <= 12:\n",
    "        print(\"ticket is of $10\")\n",
    "    else:\n",
    "        print(\"the ticket is of $15\")"
   ]
  },
  {
   "cell_type": "code",
   "execution_count": 3,
   "metadata": {},
   "outputs": [
    {
     "name": "stdout",
     "output_type": "stream",
     "text": [
      "One of my favorite books is Alice in wonderland\n"
     ]
    }
   ],
   "source": [
    "# Question4:\n",
    "# Write a function called favorite_book() that accepts one parameter, title. The function should print a message, \n",
    "# such as One of my favorite books is Alice in Wonderland. Call the function, making sure to include a book title \n",
    "# as an argument in the function call.\n",
    "\n",
    "def favorite_book(title):\n",
    "    print(f'One of my favorite books is {title} in wonderland')\n",
    "    \n",
    "favorite_book(\"Alice\")"
   ]
  },
  {
   "cell_type": "code",
   "execution_count": 4,
   "metadata": {},
   "outputs": [
    {
     "name": "stdout",
     "output_type": "stream",
     "text": [
      "Guess the number between 1 to 30 = 4\n",
      "You have entered greater number\n",
      "Guess the number between 1 to 30 = 1\n",
      "You have entered small number\n",
      "Guess the number between 1 to 30 = 3\n",
      "You won!\n"
     ]
    }
   ],
   "source": [
    "# Question5:\n",
    "# Guess the number game\n",
    "# Write a program which randomly generate a number between 1 to 30 and ask the user in input field to guess the correct number. \n",
    "# Give three chances to user guess the number and also give hint to user if hidden number is greater or smaller than the number \n",
    "# he given to input field.\n",
    "from random import randint\n",
    "\n",
    "guess_number = randint(1, 30)\n",
    "chance_number = 0\n",
    "while(True):\n",
    "    if chance_number < 3:\n",
    "#         print(guess_number)\n",
    "        User_guess = int(input(\"Guess the number between 1 to 30 = \"))\n",
    "        if User_guess == guess_number:\n",
    "            print(\"You won!\")\n",
    "            break\n",
    "        elif User_guess < guess_number:\n",
    "            print(\"You have entered small number\")\n",
    "        else:\n",
    "            print(\"You have entered greater number\")\n",
    "        chance_number += 1\n",
    "    else:\n",
    "        print(\"You Loss!\")\n",
    "#         print(chance_number)\n",
    "        chance_number = 0\n",
    "        guess_number = randint(1, 30)\n",
    "        break\n",
    "    "
   ]
  }
 ],
 "metadata": {
  "kernelspec": {
   "display_name": "Python 3",
   "language": "python",
   "name": "python3"
  },
  "language_info": {
   "codemirror_mode": {
    "name": "ipython",
    "version": 3
   },
   "file_extension": ".py",
   "mimetype": "text/x-python",
   "name": "python",
   "nbconvert_exporter": "python",
   "pygments_lexer": "ipython3",
   "version": "3.7.4"
  }
 },
 "nbformat": 4,
 "nbformat_minor": 2
}
